{
  "nbformat": 4,
  "nbformat_minor": 0,
  "metadata": {
    "colab": {
      "name": "suicide_model.ipynb",
      "provenance": [],
      "toc_visible": true
    },
    "kernelspec": {
      "name": "python3",
      "display_name": "Python 3"
    }
  },
  "cells": [
    {
      "cell_type": "code",
      "metadata": {
        "id": "EXd6f47qU5tj",
        "colab_type": "code",
        "outputId": "9883d6cc-d604-4a6b-bfd5-c01b06b007f9",
        "colab": {
          "base_uri": "https://localhost:8080/",
          "height": 118
        }
      },
      "source": [
        "!git clone https://github.com/openaifab/suicide_lstm.git"
      ],
      "execution_count": 0,
      "outputs": [
        {
          "output_type": "stream",
          "text": [
            "Cloning into 'suicide_lstm'...\n",
            "remote: Enumerating objects: 16, done.\u001b[K\n",
            "remote: Counting objects: 100% (16/16), done.\u001b[K\n",
            "remote: Compressing objects: 100% (15/15), done.\u001b[K\n",
            "remote: Total 16 (delta 0), reused 16 (delta 0), pack-reused 0\u001b[K\n",
            "Unpacking objects: 100% (16/16), done.\n"
          ],
          "name": "stdout"
        }
      ]
    },
    {
      "cell_type": "code",
      "metadata": {
        "id": "lBAA1_CDVAUA",
        "colab_type": "code",
        "outputId": "a4a0b3be-8221-424d-982a-0146ad5c9293",
        "colab": {
          "base_uri": "https://localhost:8080/",
          "height": 34
        }
      },
      "source": [
        "%cd suicide_lstm"
      ],
      "execution_count": 0,
      "outputs": [
        {
          "output_type": "stream",
          "text": [
            "/content/suicide_lstm\n"
          ],
          "name": "stdout"
        }
      ]
    },
    {
      "cell_type": "code",
      "metadata": {
        "id": "c6UvfUz1VHHF",
        "colab_type": "code",
        "outputId": "69850d79-b09f-4a09-c912-30abb7eb489e",
        "colab": {
          "base_uri": "https://localhost:8080/",
          "height": 34
        }
      },
      "source": [
        "%pwd"
      ],
      "execution_count": 0,
      "outputs": [
        {
          "output_type": "execute_result",
          "data": {
            "text/plain": [
              "'/content/suicide_lstm'"
            ]
          },
          "metadata": {
            "tags": []
          },
          "execution_count": 3
        }
      ]
    },
    {
      "cell_type": "code",
      "metadata": {
        "id": "yg0MszysVI3H",
        "colab_type": "code",
        "outputId": "77cc41a0-e80f-44c4-ff5a-9c1cc0f5a8a4",
        "colab": {
          "base_uri": "https://localhost:8080/",
          "height": 70
        }
      },
      "source": [
        "import pandas as pd\n",
        "import jieba.posseg as pseg\n",
        "import tensorflow as tf\n",
        "from tensorflow import keras\n",
        "import numpy as np\n",
        "\n",
        "from tensorflow.keras.preprocessing.text import Tokenizer\n",
        "from tensorflow.keras.preprocessing.sequence import pad_sequences\n",
        "from tensorflow.keras.utils import to_categorical\n",
        "\n",
        "import os\n",
        "\n",
        "from sklearn.model_selection import train_test_split\n",
        "from sklearn.externals import joblib"
      ],
      "execution_count": 0,
      "outputs": [
        {
          "output_type": "stream",
          "text": [
            "/usr/local/lib/python3.6/dist-packages/sklearn/externals/joblib/__init__.py:15: FutureWarning: sklearn.externals.joblib is deprecated in 0.21 and will be removed in 0.23. Please import this functionality directly from joblib, which can be installed with: pip install joblib. If this warning is raised when loading pickled models, you may need to re-serialize those models with scikit-learn 0.21+.\n",
            "  warnings.warn(msg, category=FutureWarning)\n"
          ],
          "name": "stderr"
        }
      ]
    },
    {
      "cell_type": "code",
      "metadata": {
        "id": "IONJtPwgWd53",
        "colab_type": "code",
        "colab": {}
      },
      "source": [
        "def jieba_tokenizer(text):\n",
        "    words = pseg.cut(text)\n",
        "    return ' '.join([\n",
        "        word for word, flag in words if flag != 'x' and flag!='y'and word!='丶'] )\n",
        "\n",
        "pos_train_filename = 'source/normal.txt'\n",
        "neg_train_filename = 'source/die.txt'\n",
        "\n",
        "col_name=['content']"
      ],
      "execution_count": 0,
      "outputs": []
    },
    {
      "cell_type": "code",
      "metadata": {
        "id": "loQ5_jOoWk71",
        "colab_type": "code",
        "outputId": "36f4ecd2-91b3-4598-dc79-a2739227760a",
        "colab": {
          "base_uri": "https://localhost:8080/",
          "height": 487
        }
      },
      "source": [
        "pos_train_df =  pd.read_table(pos_train_filename,names=col_name)\n",
        "neg_train_df =  pd.read_table(neg_train_filename,names=col_name)\n",
        "\n",
        "#make positive data less\n",
        "pos_train_df = pos_train_df[:600]\n",
        "######\n",
        "\n",
        "print(pos_train_df)\n",
        "print(neg_train_df)"
      ],
      "execution_count": 0,
      "outputs": [
        {
          "output_type": "stream",
          "text": [
            "                                               content\n",
            "0    预计标普期货再下跌5个指数点，市场情绪将有回归到平和状态，现在的标普下跌是将极端乐观的市场情...\n",
            "1    #2017四川公安舟船演练#乘风破浪，奋勇争先，为了肩头的使命与担当，为了警察的职责与荣耀。...\n",
            "2    会有签售呀！本周日下午1:30，在中关村言几又书店！！！！你就可以现场看到我有多胖了！！！ ...\n",
            "3       【活动】“博物馆里的非遗美术课”5-6月份活动回顾。http://t.cn/R5NeXW4 \n",
            "4    【全国高校外卖订单量30强出炉 你平时都点啥[围观]】近日，某在线外卖订餐平台对全国高校外卖...\n",
            "..                                                 ...\n",
            "595  【74岁老太替儿还债，挑60斤菜进城卖[悲伤]】山东济南74岁老人赵殿香，每天四五点起床，挑...\n",
            "596  #北京事儿#【[祈祷]】@小镚儿奴才 ：早起坐车上班在东四环辅路，看见一个流浪汉衣衫褴褛，把...\n",
            "597                        北京街拍更新，小小复古斑点红裙，freestyle！ \n",
            "598  #每日震知道# #地震科普# 震今召、震名人，希望大家都来关注，转起来！#北京政在说# @中...\n",
            "599                            #北京夜聊#说说你是因为什么而留在北京的…… \n",
            "\n",
            "[600 rows x 1 columns]\n",
            "                                               content\n",
            "0                                     我丶不配丶结束饭。我好累啊。饭。\n",
            "1             钓鱼的小橘猫很多时候，我能感觉到自己没有未来，就像一切都会在下一秒结束，包括生命\n",
            "2                                 大乔617走饭我好想死，但。。。唉╯﹏╰\n",
            "3                                   我自己都放弃了自己 更不要说是别人了\n",
            "4    我告诉自己 还能撑住 但我也不知道能撑到什么时候 我准备搬家了 我要换个地方 离开这个我死过...\n",
            "..                                                 ...\n",
            "295  您说咸鱼十九贵吗好累哦 家里破事一堆 暗恋刚开始就结束了 我也好想有个喜欢的人可以依靠倾诉 ...\n",
            "296  我好像没有想活的欲望了，每天都会崩溃，无缘的发脾气，动不动就哭，我把药断了，不想吃了，好像没...\n",
            "297  第无数次想要离开。复发。我真的觉得我好不起来了。这辈子都好不起来了。让我逃走吧。让我从这个世...\n",
            "298  X玖少年团肖战DAYTOY的老婆我感觉自己已经精神分裂了 我真的很不想活着  可又真的很怕死...\n",
            "299                                不要再劝我了 我已经决定好了 不会变了\n",
            "\n",
            "[300 rows x 1 columns]\n"
          ],
          "name": "stdout"
        }
      ]
    },
    {
      "cell_type": "code",
      "metadata": {
        "id": "_WViKTDeVhGe",
        "colab_type": "code",
        "outputId": "f2a1994e-57f7-4e02-f6c7-7e77dc6d89c8",
        "colab": {
          "base_uri": "https://localhost:8080/",
          "height": 84
        }
      },
      "source": [
        "pos_train_df['content_tokenized'] = pos_train_df.loc[:, 'content'].apply(jieba_tokenizer)\n",
        "neg_train_df['content_tokenized'] = neg_train_df.loc[:, 'content'].apply(jieba_tokenizer)"
      ],
      "execution_count": 0,
      "outputs": [
        {
          "output_type": "stream",
          "text": [
            "Building prefix dict from the default dictionary ...\n",
            "Dumping model to file cache /tmp/jieba.cache\n",
            "Loading model cost 0.919 seconds.\n",
            "Prefix dict has been built successfully.\n"
          ],
          "name": "stderr"
        }
      ]
    },
    {
      "cell_type": "code",
      "metadata": {
        "id": "i_K-FRmPVtRQ",
        "colab_type": "code",
        "outputId": "558b21cd-1f54-4298-fc4c-2c3b751c435a",
        "colab": {
          "base_uri": "https://localhost:8080/",
          "height": 454
        }
      },
      "source": [
        "print(pos_train_df['content_tokenized'])\n",
        "print(neg_train_df['content_tokenized'])\n",
        "print(\"\\n total x_train:\", len(pos_train_df)+len(neg_train_df))"
      ],
      "execution_count": 0,
      "outputs": [
        {
          "output_type": "stream",
          "text": [
            "0      预计 标普 期货 再 下跌 5 个 指数 点 市场 情绪 将 有 回归 到 平和 状态 现在...\n",
            "1      2017 四川 公安 舟船 演练 乘风破浪 奋勇争先 为了 肩头 的 使命 与 担当 为了 ...\n",
            "2      会 有 签售 本周 日 下午 30 在 中关村 言 几 又 书店 你 就 可以 现场 看到 ...\n",
            "3        活动 博物馆 里 的 非 遗 美术课 月份 活动 回顾 http t . cn R5NeXW4\n",
            "4      全国 高校 外卖 订单 量 30 强 出炉 你 平时 都 点 啥 围观 近日 某 在线 外卖...\n",
            "                             ...                        \n",
            "595    74 岁 老太 替 儿 还债 挑 60 斤 菜 进城 卖 悲伤 山东 济南 74 岁 老人 ...\n",
            "596    北京 事儿 祈祷 小镚儿 奴才 早起 坐车 上班 在 东四环 辅路 看见 一个 流浪汉 衣衫...\n",
            "597                      北京 街 拍 更新 小小 复古 斑点 红裙 freestyle\n",
            "598    每日 震 知道 地震 科普 震今 召 震 名人 希望 大家 都 来 关注 转 起来 北京 政...\n",
            "599                        北京 夜 聊 说 说 你 是因为 什么 而 留在 北京 的\n",
            "Name: content_tokenized, Length: 600, dtype: object\n",
            "0                                       我 不配 结束 饭 我 好累 饭\n",
            "1      钓鱼 的 小橘 猫 很多 时候 我 能 感觉 到 自己 没有 未来 就 像 一切 都 会 在...\n",
            "2                                  大乔 617 走饭 我 好 想 死 但 唉\n",
            "3                           我 自己 都 放弃 了 自己 更 不要 说 是 别人 了\n",
            "4      我 告诉 自己 还 能 撑住 但 我 也 不 知道 能撑 到 什么 时候 我 准备 搬家 了...\n",
            "                             ...                        \n",
            "295    您 说 咸鱼 十九 贵 好 累 哦 家里 破事 一堆 暗恋 刚 开始 就 结束 了 我 想 ...\n",
            "296    我 好像 没有 想活 的 欲望 了 每天 都 会 崩溃 无缘 的 发脾气 动不动 就 哭 我...\n",
            "297    第 无数次 想要 离开 复发 我 真的 觉得 我 好 不 起来 了 这辈子 都 好 不 起来...\n",
            "298    X 玖 少年 团肖 战 DAYTOY 的 老婆 我 感觉 自己 已经 精神分裂 了 我 真的...\n",
            "299                        不要 再 劝 我 了 我 已经 决定 好 了 不会 变 了\n",
            "Name: content_tokenized, Length: 300, dtype: object\n",
            "\n",
            " total x_train: 900\n"
          ],
          "name": "stdout"
        }
      ]
    },
    {
      "cell_type": "code",
      "metadata": {
        "id": "bQcICZjRW1NP",
        "colab_type": "code",
        "outputId": "de12328a-8641-45e4-c6b7-2f087710d32a",
        "colab": {
          "base_uri": "https://localhost:8080/",
          "height": 689
        }
      },
      "source": [
        "pos_train_df['label'] = 0\n",
        "neg_train_df['label'] = 1\n",
        "\n",
        "#print(pos_train_df['label'])\n",
        "#print(neg_train_df['label'])\n",
        "\n",
        "y_train = pd.concat([pos_train_df['label'],neg_train_df['label']])\n",
        "print(y_train)\n",
        "print(\"\")\n",
        "print(\"total y_train:\", len(y_train))\n",
        "print(\"\")\n",
        "y_train = np.array(y_train)\n",
        "print(y_train)"
      ],
      "execution_count": 0,
      "outputs": [
        {
          "output_type": "stream",
          "text": [
            "0      0\n",
            "1      0\n",
            "2      0\n",
            "3      0\n",
            "4      0\n",
            "      ..\n",
            "295    1\n",
            "296    1\n",
            "297    1\n",
            "298    1\n",
            "299    1\n",
            "Name: label, Length: 900, dtype: int64\n",
            "\n",
            "total y_train: 900\n",
            "\n",
            "[0 0 0 0 0 0 0 0 0 0 0 0 0 0 0 0 0 0 0 0 0 0 0 0 0 0 0 0 0 0 0 0 0 0 0 0 0\n",
            " 0 0 0 0 0 0 0 0 0 0 0 0 0 0 0 0 0 0 0 0 0 0 0 0 0 0 0 0 0 0 0 0 0 0 0 0 0\n",
            " 0 0 0 0 0 0 0 0 0 0 0 0 0 0 0 0 0 0 0 0 0 0 0 0 0 0 0 0 0 0 0 0 0 0 0 0 0\n",
            " 0 0 0 0 0 0 0 0 0 0 0 0 0 0 0 0 0 0 0 0 0 0 0 0 0 0 0 0 0 0 0 0 0 0 0 0 0\n",
            " 0 0 0 0 0 0 0 0 0 0 0 0 0 0 0 0 0 0 0 0 0 0 0 0 0 0 0 0 0 0 0 0 0 0 0 0 0\n",
            " 0 0 0 0 0 0 0 0 0 0 0 0 0 0 0 0 0 0 0 0 0 0 0 0 0 0 0 0 0 0 0 0 0 0 0 0 0\n",
            " 0 0 0 0 0 0 0 0 0 0 0 0 0 0 0 0 0 0 0 0 0 0 0 0 0 0 0 0 0 0 0 0 0 0 0 0 0\n",
            " 0 0 0 0 0 0 0 0 0 0 0 0 0 0 0 0 0 0 0 0 0 0 0 0 0 0 0 0 0 0 0 0 0 0 0 0 0\n",
            " 0 0 0 0 0 0 0 0 0 0 0 0 0 0 0 0 0 0 0 0 0 0 0 0 0 0 0 0 0 0 0 0 0 0 0 0 0\n",
            " 0 0 0 0 0 0 0 0 0 0 0 0 0 0 0 0 0 0 0 0 0 0 0 0 0 0 0 0 0 0 0 0 0 0 0 0 0\n",
            " 0 0 0 0 0 0 0 0 0 0 0 0 0 0 0 0 0 0 0 0 0 0 0 0 0 0 0 0 0 0 0 0 0 0 0 0 0\n",
            " 0 0 0 0 0 0 0 0 0 0 0 0 0 0 0 0 0 0 0 0 0 0 0 0 0 0 0 0 0 0 0 0 0 0 0 0 0\n",
            " 0 0 0 0 0 0 0 0 0 0 0 0 0 0 0 0 0 0 0 0 0 0 0 0 0 0 0 0 0 0 0 0 0 0 0 0 0\n",
            " 0 0 0 0 0 0 0 0 0 0 0 0 0 0 0 0 0 0 0 0 0 0 0 0 0 0 0 0 0 0 0 0 0 0 0 0 0\n",
            " 0 0 0 0 0 0 0 0 0 0 0 0 0 0 0 0 0 0 0 0 0 0 0 0 0 0 0 0 0 0 0 0 0 0 0 0 0\n",
            " 0 0 0 0 0 0 0 0 0 0 0 0 0 0 0 0 0 0 0 0 0 0 0 0 0 0 0 0 0 0 0 0 0 0 0 0 0\n",
            " 0 0 0 0 0 0 0 0 1 1 1 1 1 1 1 1 1 1 1 1 1 1 1 1 1 1 1 1 1 1 1 1 1 1 1 1 1\n",
            " 1 1 1 1 1 1 1 1 1 1 1 1 1 1 1 1 1 1 1 1 1 1 1 1 1 1 1 1 1 1 1 1 1 1 1 1 1\n",
            " 1 1 1 1 1 1 1 1 1 1 1 1 1 1 1 1 1 1 1 1 1 1 1 1 1 1 1 1 1 1 1 1 1 1 1 1 1\n",
            " 1 1 1 1 1 1 1 1 1 1 1 1 1 1 1 1 1 1 1 1 1 1 1 1 1 1 1 1 1 1 1 1 1 1 1 1 1\n",
            " 1 1 1 1 1 1 1 1 1 1 1 1 1 1 1 1 1 1 1 1 1 1 1 1 1 1 1 1 1 1 1 1 1 1 1 1 1\n",
            " 1 1 1 1 1 1 1 1 1 1 1 1 1 1 1 1 1 1 1 1 1 1 1 1 1 1 1 1 1 1 1 1 1 1 1 1 1\n",
            " 1 1 1 1 1 1 1 1 1 1 1 1 1 1 1 1 1 1 1 1 1 1 1 1 1 1 1 1 1 1 1 1 1 1 1 1 1\n",
            " 1 1 1 1 1 1 1 1 1 1 1 1 1 1 1 1 1 1 1 1 1 1 1 1 1 1 1 1 1 1 1 1 1 1 1 1 1\n",
            " 1 1 1 1 1 1 1 1 1 1 1 1]\n"
          ],
          "name": "stdout"
        }
      ]
    },
    {
      "cell_type": "code",
      "metadata": {
        "id": "I5UgqC3hW6nG",
        "colab_type": "code",
        "outputId": "6dc40532-c35e-472c-eccd-f31e1ffdabd4",
        "colab": {
          "base_uri": "https://localhost:8080/",
          "height": 235
        }
      },
      "source": [
        "vocab_size = 10000\n",
        "tokenizer = Tokenizer(num_words=vocab_size, oov_token=\"<OOV>\")\n",
        "\n",
        "corpus_x1 = pos_train_df.content_tokenized\n",
        "corpus_x2 = neg_train_df.content_tokenized\n",
        "corpus = pd.concat([corpus_x1, corpus_x2],ignore_index=True)\n",
        "\n",
        "print(corpus.shape)\n",
        "print(corpus)"
      ],
      "execution_count": 0,
      "outputs": [
        {
          "output_type": "stream",
          "text": [
            "(900,)\n",
            "0      预计 标普 期货 再 下跌 5 个 指数 点 市场 情绪 将 有 回归 到 平和 状态 现在...\n",
            "1      2017 四川 公安 舟船 演练 乘风破浪 奋勇争先 为了 肩头 的 使命 与 担当 为了 ...\n",
            "2      会 有 签售 本周 日 下午 30 在 中关村 言 几 又 书店 你 就 可以 现场 看到 ...\n",
            "3        活动 博物馆 里 的 非 遗 美术课 月份 活动 回顾 http t . cn R5NeXW4\n",
            "4      全国 高校 外卖 订单 量 30 强 出炉 你 平时 都 点 啥 围观 近日 某 在线 外卖...\n",
            "                             ...                        \n",
            "895    您 说 咸鱼 十九 贵 好 累 哦 家里 破事 一堆 暗恋 刚 开始 就 结束 了 我 想 ...\n",
            "896    我 好像 没有 想活 的 欲望 了 每天 都 会 崩溃 无缘 的 发脾气 动不动 就 哭 我...\n",
            "897    第 无数次 想要 离开 复发 我 真的 觉得 我 好 不 起来 了 这辈子 都 好 不 起来...\n",
            "898    X 玖 少年 团肖 战 DAYTOY 的 老婆 我 感觉 自己 已经 精神分裂 了 我 真的...\n",
            "899                        不要 再 劝 我 了 我 已经 决定 好 了 不会 变 了\n",
            "Name: content_tokenized, Length: 900, dtype: object\n"
          ],
          "name": "stdout"
        }
      ]
    },
    {
      "cell_type": "code",
      "metadata": {
        "id": "WfWA1WUrXE3o",
        "colab_type": "code",
        "outputId": "32cfb84a-d849-49fa-eb8e-6a4c32c813ed",
        "colab": {
          "base_uri": "https://localhost:8080/",
          "height": 84
        }
      },
      "source": [
        "tokenizer.fit_on_texts(corpus)\n",
        "word_index = tokenizer.word_index\n",
        "print(\"total volcabulary:\", len(word_index))\n",
        "reverse_word_index = dict([(value, key) for (key, value) in word_index.items()])\n",
        "print(\"key 1 is:\", reverse_word_index[1])\n",
        "print(\"key 2 is:\", reverse_word_index[2])\n",
        "\n",
        "joblib.dump(tokenizer,'tk.pkl')\n",
        "\n",
        "x1_train = tokenizer.texts_to_sequences(corpus_x1)\n",
        "x2_train = tokenizer.texts_to_sequences(corpus_x2)\n",
        "\n",
        "max_seq_len = max([len(seq) for seq in x1_train])\n",
        "print(\"max lenght of the sentence is:\", max_seq_len)\n",
        "#os._exit() "
      ],
      "execution_count": 0,
      "outputs": [
        {
          "output_type": "stream",
          "text": [
            "total volcabulary: 11465\n",
            "key 1 is: <OOV>\n",
            "key 2 is: 的\n",
            "max lenght of the sentence is: 4259\n"
          ],
          "name": "stdout"
        }
      ]
    },
    {
      "cell_type": "code",
      "metadata": {
        "id": "iE-O_QrSXJg2",
        "colab_type": "code",
        "outputId": "14281877-367c-42d0-df7c-9ec810f06904",
        "colab": {
          "base_uri": "https://localhost:8080/",
          "height": 134
        }
      },
      "source": [
        "MAX_SEQUENCE_LENGTH = 150 #max_seq_len\n",
        "x1_train_padded = pad_sequences(x1_train, maxlen=MAX_SEQUENCE_LENGTH, truncating='post') #normal\n",
        "x2_train_padded = pad_sequences(x2_train, maxlen=MAX_SEQUENCE_LENGTH, truncating='post') #die\n",
        "\n",
        "x_train_padded=np.vstack((x1_train_padded,x2_train_padded))\n",
        "print(x_train_padded)"
      ],
      "execution_count": 0,
      "outputs": [
        {
          "output_type": "stream",
          "text": [
            "[[   0    0    0 ... 4770 4771 4772]\n",
            " [   0    0    0 ...    2   76   17]\n",
            " [   0    0    0 ...    9 1966  827]\n",
            " ...\n",
            " [   0    0    0 ...   64   28  241]\n",
            " [   0    0    0 ...   31    1   19]\n",
            " [   0    0    0 ...  260  359    4]]\n"
          ],
          "name": "stdout"
        }
      ]
    },
    {
      "cell_type": "code",
      "metadata": {
        "id": "5F83OTQ4XUhW",
        "colab_type": "code",
        "outputId": "d7cb0b38-d92e-4c2a-89eb-8bdaecdaa167",
        "colab": {
          "base_uri": "https://localhost:8080/",
          "height": 168
        }
      },
      "source": [
        "VALIDATION_RATIO = 0.2\n",
        "RANDOM_STATE = 9527\n",
        "\n",
        "x_train, x_val, y_train, y_val = train_test_split(x_train_padded, y_train, test_size=VALIDATION_RATIO, random_state=RANDOM_STATE)\n",
        "\n",
        "print(\"Training Set\")\n",
        "print(\"-\" * 10)\n",
        "print(f\"x_train: {x_train.shape}\")\n",
        "\n",
        "print(f\"y_train : {y_train.shape}\")\n",
        "\n",
        "print(\"-\" * 10)\n",
        "print(f\"x_val:   {x_val.shape}\")\n",
        "\n",
        "print(f\"y_val :   {y_val.shape}\")\n",
        "print(\"-\" * 10)\n",
        "print(\"Test Set\")"
      ],
      "execution_count": 0,
      "outputs": [
        {
          "output_type": "stream",
          "text": [
            "Training Set\n",
            "----------\n",
            "x_train: (720, 150)\n",
            "y_train : (720,)\n",
            "----------\n",
            "x_val:   (180, 150)\n",
            "y_val :   (180,)\n",
            "----------\n",
            "Test Set\n"
          ],
          "name": "stdout"
        }
      ]
    },
    {
      "cell_type": "code",
      "metadata": {
        "id": "ZH7tTkQzXami",
        "colab_type": "code",
        "outputId": "db32f612-ae9f-4bfa-dc12-dff9368a8ba7",
        "colab": {
          "base_uri": "https://localhost:8080/",
          "height": 252
        }
      },
      "source": [
        "# 一個詞向量的維度\n",
        "EMBEDDING_DIM = 128\n",
        "\n",
        "# LSTM 輸出的向量維度\n",
        "NUM_LSTM_UNITS = 128\n",
        "\n",
        "model = tf.keras.Sequential([\n",
        "    tf.keras.layers.Embedding(vocab_size, EMBEDDING_DIM, input_length=MAX_SEQUENCE_LENGTH),\n",
        "    #tf.keras.layers.Flatten(),\n",
        "    #tf.keras.layers.Bidirectional(tf.keras.layers.LSTM(64, return_sequences=True)), # try if it gets better accuracy\n",
        "    tf.keras.layers.Bidirectional(tf.keras.layers.LSTM(32)), # try if it gets better accuracy\n",
        "    #tf.keras.layers.Dense(16, activation='relu'),  #16, 24\n",
        "    tf.keras.layers.Dense(1, activation='sigmoid')\n",
        "])\n",
        "model.compile(loss='binary_crossentropy',optimizer='adam',metrics=['accuracy'])\n",
        "model.summary()"
      ],
      "execution_count": 0,
      "outputs": [
        {
          "output_type": "stream",
          "text": [
            "Model: \"sequential\"\n",
            "_________________________________________________________________\n",
            "Layer (type)                 Output Shape              Param #   \n",
            "=================================================================\n",
            "embedding (Embedding)        (None, 150, 128)          1280000   \n",
            "_________________________________________________________________\n",
            "bidirectional (Bidirectional (None, 64)                41216     \n",
            "_________________________________________________________________\n",
            "dense (Dense)                (None, 1)                 65        \n",
            "=================================================================\n",
            "Total params: 1,321,281\n",
            "Trainable params: 1,321,281\n",
            "Non-trainable params: 0\n",
            "_________________________________________________________________\n"
          ],
          "name": "stdout"
        }
      ]
    },
    {
      "cell_type": "code",
      "metadata": {
        "id": "Gdqgy984kYsz",
        "colab_type": "code",
        "colab": {}
      },
      "source": [
        "class myCallback(tf.keras.callbacks.Callback):\n",
        "  def on_epoch_end(self, epoch, logs={}):\n",
        "    if(logs.get('val_acc')>0.95):\n",
        "      print(\"\\nReached 95% accuracy so cancelling training!\")\n",
        "      self.model.stop_training = True\n",
        "\n",
        "callbacks = myCallback()"
      ],
      "execution_count": 0,
      "outputs": []
    },
    {
      "cell_type": "code",
      "metadata": {
        "id": "Dq6ZY8h1XiGX",
        "colab_type": "code",
        "outputId": "4ebd4faf-5785-4ddc-e131-21b4100159a6",
        "colab": {
          "base_uri": "https://localhost:8080/",
          "height": 353
        }
      },
      "source": [
        "# 決定一次要放多少成對標題給模型訓練\n",
        "BATCH_SIZE = 32\n",
        "\n",
        "# 決定模型要看整個訓練資料集幾遍\n",
        "NUM_EPOCHS = 10\n",
        "\n",
        "# 實際訓練模型\n",
        "history = model.fit(x=x_train, y=y_train, batch_size=BATCH_SIZE, epochs=NUM_EPOCHS, validation_data=(x_val, y_val), shuffle=True\n",
        "                    #,callbacks=[callbacks]\n",
        ")\n",
        "\n",
        "model.save('lstm.h5')"
      ],
      "execution_count": 0,
      "outputs": [
        {
          "output_type": "stream",
          "text": [
            "Epoch 1/10\n",
            "23/23 [==============================] - 4s 167ms/step - loss: 0.6144 - accuracy: 0.6639 - val_loss: 0.4983 - val_accuracy: 0.7556\n",
            "Epoch 2/10\n",
            "23/23 [==============================] - 3s 142ms/step - loss: 0.3319 - accuracy: 0.8819 - val_loss: 0.2326 - val_accuracy: 0.9389\n",
            "Epoch 3/10\n",
            "23/23 [==============================] - 3s 138ms/step - loss: 0.4187 - accuracy: 0.8736 - val_loss: 0.2681 - val_accuracy: 0.9556\n",
            "Epoch 4/10\n",
            "23/23 [==============================] - 3s 139ms/step - loss: 0.1883 - accuracy: 0.9722 - val_loss: 0.1965 - val_accuracy: 0.9722\n",
            "Epoch 5/10\n",
            "23/23 [==============================] - 3s 138ms/step - loss: 0.1125 - accuracy: 0.9792 - val_loss: 0.1230 - val_accuracy: 0.9889\n",
            "Epoch 6/10\n",
            "23/23 [==============================] - 3s 144ms/step - loss: 0.0697 - accuracy: 0.9903 - val_loss: 0.0909 - val_accuracy: 0.9833\n",
            "Epoch 7/10\n",
            "23/23 [==============================] - 3s 140ms/step - loss: 0.0471 - accuracy: 0.9972 - val_loss: 0.0717 - val_accuracy: 0.9889\n",
            "Epoch 8/10\n",
            "23/23 [==============================] - 3s 137ms/step - loss: 0.0334 - accuracy: 1.0000 - val_loss: 0.0606 - val_accuracy: 0.9889\n",
            "Epoch 9/10\n",
            "23/23 [==============================] - 3s 137ms/step - loss: 0.0253 - accuracy: 1.0000 - val_loss: 0.0544 - val_accuracy: 0.9889\n",
            "Epoch 10/10\n",
            "23/23 [==============================] - 3s 138ms/step - loss: 0.0198 - accuracy: 1.0000 - val_loss: 0.0502 - val_accuracy: 0.9889\n"
          ],
          "name": "stdout"
        }
      ]
    },
    {
      "cell_type": "code",
      "metadata": {
        "id": "TNbL9vjht7JP",
        "colab_type": "code",
        "outputId": "ce7e6903-f0e3-400e-eda0-365e74c19652",
        "colab": {
          "base_uri": "https://localhost:8080/",
          "height": 269
        }
      },
      "source": [
        "MAX_SEQUENCE_LENGTH = 150\n",
        "\n",
        "model=keras.models.load_model('lstm.h5')\n",
        "print(model.summary())"
      ],
      "execution_count": 0,
      "outputs": [
        {
          "output_type": "stream",
          "text": [
            "Model: \"sequential\"\n",
            "_________________________________________________________________\n",
            "Layer (type)                 Output Shape              Param #   \n",
            "=================================================================\n",
            "embedding (Embedding)        (None, 150, 128)          1280000   \n",
            "_________________________________________________________________\n",
            "bidirectional (Bidirectional (None, 64)                41216     \n",
            "_________________________________________________________________\n",
            "dense (Dense)                (None, 1)                 65        \n",
            "=================================================================\n",
            "Total params: 1,321,281\n",
            "Trainable params: 1,321,281\n",
            "Non-trainable params: 0\n",
            "_________________________________________________________________\n",
            "None\n"
          ],
          "name": "stdout"
        }
      ]
    },
    {
      "cell_type": "code",
      "metadata": {
        "id": "aF_W4EaguFDx",
        "colab_type": "code",
        "outputId": "9e98e820-c977-418f-97f6-5e6aa9ca873a",
        "colab": {
          "base_uri": "https://localhost:8080/",
          "height": 302
        }
      },
      "source": [
        "pos_test_filename = 'source/normal_test.txt'\n",
        "neg_test_filename = 'source/die_test.txt'\n",
        "\n",
        "col_name=['content']\n",
        "\n",
        "pos_test_df =  pd.read_table(pos_test_filename,names=col_name)\n",
        "neg_test_df =  pd.read_table(neg_test_filename,names=col_name)\n",
        "\n",
        "pos_test_df['content_tokenized'] = pos_test_df.loc[:, 'content'].apply(jieba_tokenizer)\n",
        "neg_test_df['content_tokenized'] = neg_test_df.loc[:, 'content'].apply(jieba_tokenizer)\n",
        "pos_test_df['label'] = 0\n",
        "neg_test_df['label'] = 1\n",
        "print(len(pos_test_df['content_tokenized']))\n",
        "print(len(neg_test_df['content_tokenized']))\n",
        "\n",
        "test_df=pd.concat([pos_test_df,neg_test_df],ignore_index=True)\n",
        "print(test_df)\n",
        "max_seq_len = max([len(seq) for seq in test_df['content_tokenized']])\n",
        "print(max_seq_len)\n",
        "#MAX_NUM_WORDS = 10000"
      ],
      "execution_count": 0,
      "outputs": [
        {
          "output_type": "stream",
          "text": [
            "50\n",
            "50\n",
            "                                              content  ... label\n",
            "0   存 酒鬼们！！快来！！马上就国庆长假了！与其到外面拥挤的出游，不如在家喝大酒啊！！和男票和两...  ...     0\n",
            "1   《很纯很暧昧》：怪我太傻！信了你的假名！为什么我的双眼常常通红，因为辣的呗......[do...  ...     0\n",
            "2   美呆啦！提神养眼的倪妮和X9s CP[太开心] 【还有2天】喵总说：TA是一道柔光，把美好的...  ...     0\n",
            "3   应该是我的了[doge] 告诉你，你与国庆假期只差一台单反相机！佳能单反一台，喜欢就拿走，假...  ...     0\n",
            "4   怎么会有颜值担当这样的职位，我这样的小仙女都没这么说[笑cry] 猜猜我们园区今天会有啥黑科...  ...     0\n",
            "..                                                ...  ...   ...\n",
            "95                                 蝉咽w我什么都不想要 我只想要安乐死  ...     1\n",
            "96                       如果我消失了呢两次误机，老天是不想让我死还是想继续折磨我  ...     1\n",
            "97                  无味甜饼我想死了 可是找不到合适的方式 害怕痛苦 可是活着更加痛苦  ...     1\n",
            "98                                      蝉咽w不然一切早就该结束了  ...     1\n",
            "99                                          为什么要这么折磨我  ...     1\n",
            "\n",
            "[100 rows x 3 columns]\n",
            "351\n"
          ],
          "name": "stdout"
        }
      ]
    },
    {
      "cell_type": "code",
      "metadata": {
        "id": "1zu6O-IEuGtq",
        "colab_type": "code",
        "outputId": "24aa931f-b5f4-4de7-d750-7809a5fe1eb8",
        "colab": {
          "base_uri": "https://localhost:8080/",
          "height": 235
        }
      },
      "source": [
        "tokenizer = joblib.load('tk.pkl')\n",
        "\n",
        "x1_test = tokenizer.texts_to_sequences(pos_test_df.content_tokenized)\n",
        "x2_test = tokenizer.texts_to_sequences(neg_test_df.content_tokenized)\n",
        "\n",
        "x1_test = keras.preprocessing.sequence.pad_sequences(x1_test, maxlen=MAX_SEQUENCE_LENGTH, truncating='post')\n",
        "x2_test = keras.preprocessing.sequence.pad_sequences(x2_test, maxlen=MAX_SEQUENCE_LENGTH, truncating='post')\n",
        "\n",
        "x_test=np.vstack((x1_test,x2_test))\n",
        "print(x_test)\n",
        "\n",
        "#generate true label data here\n",
        "y_test = pd.concat([pos_test_df['label'],neg_test_df['label']])\n",
        "y_test = np.array(y_test)\n",
        "print(y_test)\n",
        "print(\"\")\n",
        "print(\"total y_train:\", len(y_test))\n",
        "print(\"\")"
      ],
      "execution_count": 0,
      "outputs": [
        {
          "output_type": "stream",
          "text": [
            "[[   0    0    0 ... 2433  209    1]\n",
            " [   0    0    0 ...   36   25   17]\n",
            " [   0    0    0 ...   36   25   17]\n",
            " ...\n",
            " [   0    0    0 ...  146 1207  185]\n",
            " [   0    0    0 ...  216   82    4]\n",
            " [   0    0    0 ...  289 1149    3]]\n",
            "[0 0 0 0 0 0 0 0 0 0 0 0 0 0 0 0 0 0 0 0 0 0 0 0 0 0 0 0 0 0 0 0 0 0 0 0 0\n",
            " 0 0 0 0 0 0 0 0 0 0 0 0 0 1 1 1 1 1 1 1 1 1 1 1 1 1 1 1 1 1 1 1 1 1 1 1 1\n",
            " 1 1 1 1 1 1 1 1 1 1 1 1 1 1 1 1 1 1 1 1 1 1 1 1 1 1]\n",
            "\n",
            "total y_train: 100\n",
            "\n"
          ],
          "name": "stdout"
        }
      ]
    },
    {
      "cell_type": "code",
      "metadata": {
        "id": "xoIOrE15uKiK",
        "colab_type": "code",
        "outputId": "3587b95d-cdcf-4fbe-9be9-459a1ccddfeb",
        "colab": {
          "base_uri": "https://localhost:8080/",
          "height": 34
        }
      },
      "source": [
        "x_test=np.repeat(x_test, 10, axis = 0)\n",
        "len(x_test)"
      ],
      "execution_count": 0,
      "outputs": [
        {
          "output_type": "execute_result",
          "data": {
            "text/plain": [
              "1000"
            ]
          },
          "metadata": {
            "tags": []
          },
          "execution_count": 23
        }
      ]
    },
    {
      "cell_type": "code",
      "metadata": {
        "id": "1is5ozfBuPcU",
        "colab_type": "code",
        "colab": {}
      },
      "source": [
        "y_test=np.repeat(y_test, 10, axis = 0)"
      ],
      "execution_count": 0,
      "outputs": []
    },
    {
      "cell_type": "code",
      "metadata": {
        "id": "Z07T_IQyuR2q",
        "colab_type": "code",
        "colab": {}
      },
      "source": [
        "predictions = model.predict(x_test)"
      ],
      "execution_count": 0,
      "outputs": []
    },
    {
      "cell_type": "code",
      "metadata": {
        "id": "_Z_eWhAruV8k",
        "colab_type": "code",
        "colab": {}
      },
      "source": [
        "test_df['label']=np.apply_along_axis(lambda x: 1 if x > 0.5 else 0, 1, predictions)\n",
        "print(np.array(test_df['label']))\n",
        "for index, row in test_df.iterrows():\n",
        "    print('index:{},content:{},label:{}'.format(index,row['content'],row['label']))"
      ],
      "execution_count": 0,
      "outputs": []
    },
    {
      "cell_type": "code",
      "metadata": {
        "id": "7pDlvzE6YFRi",
        "colab_type": "code",
        "colab": {}
      },
      "source": [
        "import matplotlib.pyplot as plt\n",
        "\n",
        "def plot_graphs(history, string):\n",
        "  plt.plot(history.history[string])\n",
        "  plt.plot(history.history['val_'+string])\n",
        "  plt.xlabel(\"Epochs\")\n",
        "  plt.ylabel(string)\n",
        "  plt.legend([string, 'val_'+string])\n",
        "  plt.show()"
      ],
      "execution_count": 0,
      "outputs": []
    },
    {
      "cell_type": "code",
      "metadata": {
        "id": "alacdeDcjVpR",
        "colab_type": "code",
        "outputId": "593d2807-66b8-4196-f9e7-bbbf2597f881",
        "colab": {
          "base_uri": "https://localhost:8080/",
          "height": 279
        }
      },
      "source": [
        "plot_graphs(history, 'acc')"
      ],
      "execution_count": 0,
      "outputs": [
        {
          "output_type": "display_data",
          "data": {
            "image/png": "[encoded data removed]",
            "text/plain": [
              "<Figure size 432x288 with 1 Axes>"
            ]
          },
          "metadata": {
            "tags": []
          }
        }
      ]
    },
    {
      "cell_type": "code",
      "metadata": {
        "id": "_wBg8NmEjYRt",
        "colab_type": "code",
        "outputId": "7515539c-da66-4a88-d622-b36e79c9c4c8",
        "colab": {
          "base_uri": "https://localhost:8080/",
          "height": 279
        }
      },
      "source": [
        "plot_graphs(history, 'loss')"
      ],
      "execution_count": 0,
      "outputs": [
        {
          "output_type": "display_data",
          "data": {
            "image/png": "[encoded data removed]",
            "text/plain": [
              "<Figure size 432x288 with 1 Axes>"
            ]
          },
          "metadata": {
            "tags": []
          }
        }
      ]
    },
    {
      "cell_type": "code",
      "metadata": {
        "id": "Oca9i04bjbCh",
        "colab_type": "code",
        "outputId": "e43bc29a-0adb-4568-b536-864fe34cfd21",
        "colab": {
          "base_uri": "https://localhost:8080/",
          "height": 34
        }
      },
      "source": [
        "e = model.layers[0]\n",
        "weights = e.get_weights()[0]\n",
        "print(weights.shape) # shape: (vocab_size, embedding_dim)"
      ],
      "execution_count": 0,
      "outputs": [
        {
          "output_type": "stream",
          "text": [
            "(10000, 128)\n"
          ],
          "name": "stdout"
        }
      ]
    },
    {
      "cell_type": "markdown",
      "metadata": {
        "id": "jy6cLOMznisI",
        "colab_type": "text"
      },
      "source": [
        "##Test Model"
      ]
    },
    {
      "cell_type": "code",
      "metadata": {
        "id": "B9DiqsSam-Pr",
        "colab_type": "code",
        "outputId": "23bca034-64c7-4132-ac0e-b1bf4acd671b",
        "colab": {
          "base_uri": "https://localhost:8080/",
          "height": 222
        }
      },
      "source": [
        "tests = ['钓鱼的小橘猫很多时候，我能感觉到自己没有未来，就像一切都会在下一秒结束，包括生命',\n",
        "         '我会在二十八岁结束了这潦草的一生对吧',\n",
        "         '最爱灼灼华年我真的好想死啊',\n",
        "         '我好烦。今天怎么还没死。',\n",
        "         '#2017四川公安舟船演练#乘风破浪，奋勇争先，为了肩头的使命与担当，为了警察的职责与荣耀。[加油] 四川公安的微博视频 ']\n",
        "sentences = []\n",
        "for s in tests:\n",
        "  sentences.append(jieba_tokenizer(s))\n",
        "sequence = tokenizer.texts_to_sequences(sentences)\n",
        "print(sequence)\n",
        "\n",
        "r = model.predict(pad_sequences(sequence, maxlen=MAX_SEQUENCE_LENGTH, truncating='post'))\n",
        "print(r)\n",
        "for u, v in list(zip(sentences, r)):\n",
        "    rating = 'Good' if v[0] < 0.5 else 'Bad'\n",
        "    print(f'{u} → {rating}')"
      ],
      "execution_count": 0,
      "outputs": [
        {
          "output_type": "stream",
          "text": [
            "[[1, 2, 1, 1437, 463, 129, 3, 50, 213, 23, 27, 58, 257, 10, 145, 227, 11, 22, 6, 112, 1146, 82, 1101, 376], [805, 6, 1, 82, 4, 26, 1, 2, 546, 53], [54, 57, 1, 1449, 47, 3, 67, 19, 13, 14], [3, 1, 63, 110, 46, 2813], [75, 356, 473, 4773, 4774, 4775, 4776, 302, 4777, 2, 1466, 39, 1467, 302, 512, 2, 4778, 39, 624, 277, 356, 473, 2, 76, 17]]\n",
            "[[0.9852321 ]\n",
            " [0.98001593]\n",
            " [0.98846567]\n",
            " [0.95916885]\n",
            " [0.00916184]]\n",
            "钓鱼 的 小橘 猫 很多 时候 我 能 感觉 到 自己 没有 未来 就 像 一切 都 会 在 下 一秒 结束 包括 生命 → Bad\n",
            "我会 在 二十八岁 结束 了 这 潦草 的 一生 对 → Bad\n",
            "最 爱 灼灼 华 年 我 真的 好 想 死 → Bad\n",
            "我 好烦 今天 怎么 还 没死 → Bad\n",
            "2017 四川 公安 舟船 演练 乘风破浪 奋勇争先 为了 肩头 的 使命 与 担当 为了 警察 的 职责 与 荣耀 加油 四川 公安 的 微博 视频 → Good\n"
          ],
          "name": "stdout"
        }
      ]
    },
    {
      "cell_type": "markdown",
      "metadata": {
        "id": "MzGQ3UBPno40",
        "colab_type": "text"
      },
      "source": [
        "##Visualize embeddings"
      ]
    },
    {
      "cell_type": "code",
      "metadata": {
        "id": "X4s75lJHnuYB",
        "colab_type": "code",
        "colab": {}
      },
      "source": [
        "import io\n",
        "\n",
        "out_v = io.open('vecs.tsv', 'w', encoding='utf-8')\n",
        "out_m = io.open('meta.tsv', 'w', encoding='utf-8')\n",
        "for word_num in range(1, vocab_size):\n",
        "  word = reverse_word_index[word_num]\n",
        "  embeddings = weights[word_num]\n",
        "  out_m.write(word + \"\\n\")\n",
        "  out_v.write('\\t'.join([str(x) for x in embeddings]) + \"\\n\")\n",
        "out_v.close()\n",
        "out_m.close()"
      ],
      "execution_count": 0,
      "outputs": []
    },
    {
      "cell_type": "code",
      "metadata": {
        "id": "ADANgWBLnw7S",
        "colab_type": "code",
        "colab": {}
      },
      "source": [
        "try:\n",
        "  from google.colab import files\n",
        "except ImportError:\n",
        "  pass\n",
        "else:\n",
        "  files.download('vecs.tsv')\n",
        "  files.download('meta.tsv')\n",
        "#visit website: projector.tensorflow.org"
      ],
      "execution_count": 0,
      "outputs": []
    },
    {
      "cell_type": "code",
      "metadata": {
        "id": "yrdUw2CGyGdD",
        "colab_type": "code",
        "colab": {}
      },
      "source": [
        ""
      ],
      "execution_count": 0,
      "outputs": []
    }
  ]
}